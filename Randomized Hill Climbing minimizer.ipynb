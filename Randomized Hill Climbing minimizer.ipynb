{
 "cells": [
  {
   "cell_type": "code",
   "execution_count": 1,
   "metadata": {},
   "outputs": [],
   "source": [
    "import math as mt\n",
    "import random as rd"
   ]
  },
  {
   "cell_type": "code",
   "execution_count": 6,
   "metadata": {},
   "outputs": [],
   "source": [
    "#the function that gives me f values, given x and y\n",
    "def function(x, y):\n",
    "    return ((1 + mt.pow(x+y+1, 2) * (19 - 14*x + 3*mt.pow(x,2) - 14*y + 6*x*y + 3*mt.pow(y,2))) * ((30 + mt.pow((2*x - 3*y),2) * (18 - 32*x + 12*mt.pow(x,2) + 4*y - 36*x*y + 27*mt.pow(y,2)))))\n",
    "\n",
    "\n",
    "#the function that loops through neighbors times through function(x,y) where random values of x & y have a variance of z.\n",
    "##where sp_x and sp_y are the starting point coordinates\n",
    "#returns a list of possible solutions\n",
    "def RHC(sp_x, sp_y, neighbors, std_dev, seed):\n",
    "    fxy_list = []\n",
    "    rd.seed(seed)\n",
    "    \n",
    "    for i in range(neighbors): \n",
    "        z1 = rd.uniform(-1*std_dev, std_dev)\n",
    "        z2 = rd.uniform(-1*std_dev, std_dev)\n",
    "        \n",
    "        while(not(sp_x+z1 <= 2) and not(sp_x+z1 >=-2) and not(sp_y+z2 >= -2) and not(sp_y+z2 <= 2)):\n",
    "            z1 = rd.uniform(-1*std_dev, std_dev)\n",
    "            z2 = rd.uniform(-1*std_dev, std_dev)\n",
    "        \n",
    "        fxy_tuple = (function(sp_x+z1, sp_y+z2), sp_x+z1, sp_y+z2)\n",
    "        fxy_list.append(fxy_tuple)\n",
    "    \n",
    "    return fxy_list\n",
    "\n",
    "\n",
    "\n",
    "##finds minimum of list\n",
    "def minimize_sol(fxy_list):\n",
    "            \n",
    "    return min(fxy_list, key = lambda t: t[0]) \n",
    "    \n",
    "\n",
    "#recursively evaluates the minimum with new sp_x, sp_y's based on previous minimum \n",
    "def RHC_evaluator(sp_x, sp_y, neighbors, std_dev, seed, search_count):\n",
    "    \n",
    "    search_count += 1 \n",
    "    \n",
    "    fxy_list = RHC(sp_x, sp_y, neighbors, std_dev, seed)\n",
    "    og_minimum = minimize_sol(fxy_list)    \n",
    "        \n",
    "    print(og_minimum)\n",
    "    new_fxy_list = RHC(og_minimum[1], og_minimum[2], neighbors, std_dev, seed)\n",
    "    new_minimum = minimize_sol(new_fxy_list)\n",
    "    \n",
    "    \n",
    "    if (og_minimum[0] < new_minimum[0]):\n",
    "        return og_minimum[0], search_count\n",
    "    else: \n",
    "        return RHC_evaluator(og_minimum[1], og_minimum[2], neighbors, std_dev, seed, search_count)\n",
    "    \n",
    "    \n",
    "    \n"
   ]
  },
  {
   "cell_type": "code",
   "execution_count": 9,
   "metadata": {
    "scrolled": true
   },
   "outputs": [
    {
     "name": "stdout",
     "output_type": "stream",
     "text": [
      "\tPROMPT: Enter x starting point in sp(x,y)\n",
      "\n",
      "-10\n",
      "\tPROMPT: Enter y starting point in sp(x,y)\n",
      "\n",
      "20\n",
      "\tPROMPT: Enter amount of neighbors/runs  (p) for this experiment\n",
      "\n",
      "20\n",
      "\tPROMPT: Enter deviation (z)\n",
      "\n",
      " 2\n",
      "\tPROMPT: Enter the seed for the random plant\n",
      "\n",
      "2\n",
      "(293000059415.74194, -11.85630268242857, 18.109779428363275)\n",
      "(3614772912.934951, -13.71260536485714, 16.21955885672655)\n",
      "(113923300.55981857, -15.486399893949905, 14.559046837362237)\n",
      "(79671212.53098875, -14.80747828818902, 13.791592667718813)\n",
      "(79671212.53098875, 4)\n"
     ]
    }
   ],
   "source": [
    "##engine:\n",
    "\n",
    "\n",
    "sp_x = input('\\tPROMPT: Enter x starting point in sp(x,y)\\n\\n')\n",
    "sp_y = input('\\tPROMPT: Enter y starting point in sp(x,y)\\n\\n')\n",
    "neighbors = input('\\tPROMPT: Enter amount of neighbors/runs  (p) for this experiment\\n\\n')\n",
    "std_dev = input('\\tPROMPT: Enter deviation (z)\\n\\n ')\n",
    "seed = input('\\tPROMPT: Enter the seed for the random plant\\n\\n')\n",
    "\n",
    "\n",
    "print(RHC_evaluator(float(sp_x), float(sp_y), int(neighbors), float(std_dev), int(seed),0 ))\n",
    "\n",
    "\n",
    "# abs_min = RHC_evaluator(float(sp_x), float(sp_y), int(neighbors), float(std_dev), int(seed))\n",
    "    \n",
    "# print(m)"
   ]
  },
  {
   "cell_type": "code",
   "execution_count": null,
   "metadata": {},
   "outputs": [],
   "source": []
  },
  {
   "cell_type": "code",
   "execution_count": null,
   "metadata": {},
   "outputs": [],
   "source": []
  }
 ],
 "metadata": {
  "kernelspec": {
   "display_name": "Python 3",
   "language": "python",
   "name": "python3"
  },
  "language_info": {
   "codemirror_mode": {
    "name": "ipython",
    "version": 3
   },
   "file_extension": ".py",
   "mimetype": "text/x-python",
   "name": "python",
   "nbconvert_exporter": "python",
   "pygments_lexer": "ipython3",
   "version": "3.8.5"
  }
 },
 "nbformat": 4,
 "nbformat_minor": 4
}
